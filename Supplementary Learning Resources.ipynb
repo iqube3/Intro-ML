{
 "cells": [
  {
   "cell_type": "markdown",
   "metadata": {},
   "source": [
    "# Learning Resources\n",
    "This notebook will provde a one stop reference document for all the resources that will help your learning\n",
    "It will have sections for Python, ML and SQL"
   ]
  },
  {
   "cell_type": "markdown",
   "metadata": {},
   "source": [
    "## Python \n",
    "### Web\n",
    "1. Python Virtual Environments: A Primer  \n",
    "    https://realpython.com/python-virtual-environments-a-primer/?utm_source=pocket_saves\n",
    "2. Python Pandas Cheat Sheet  \n",
    "    https://sgfin.github.io/files/cheatsheets/Python_cheatsheet_pandas.pdf\n",
    "3. Python Scikit Cheat Sheet  \n",
    "    https://sgfin.github.io/files/cheatsheets/Python_cheatsheet_scikit.pdf\n",
    "4. \n",
    "\n",
    "### Audio/Podcasts\n",
    "1. The Real Python  \n",
    "    https://realpython.com/podcasts/rpp/\n",
    "\n",
    "\n",
    "\n",
    "### Videos\n",
    "Corey Schafer\n",
    "1. Python Tutorial for Beginners 1: Install and Setup for Mac and Windows. Has a series of about 10 short videos  \n",
    "    https://www.youtube.com/watch?v=YYXdXT2l-Gg&list=PL-osiE80TeTskrapNbzXhwoFUiLCjGgY7\n",
    "2. Python Pandas Tutorial (Part 1): Getting Started with Data Analysis - Installation and Loading Data  \n",
    "    https://www.youtube.com/watch?v=ZyhVh-qRZPA&list=PL-osiE80TeTsWmV9i9c58mdDCSskIFdDS&index=1\n",
    "3. Matplotlib Tutorial (Part 1): Creating and Customizing Our First Plots  \n",
    "    https://www.youtube.com/watch?v=UO98lJQ3QGI&list=PL-osiE80TeTvipOqomVEeZ1HRrcEvtZB_\n"
   ]
  },
  {
   "cell_type": "markdown",
   "metadata": {},
   "source": [
    "## ML\n",
    "\n",
    "1. How to Calculate Feature Importance With Python  \n",
    "    https://machinelearningmastery.com/calculate-feature-importance-with-python/?utm_source=pocket_saves\n",
    "2. Reddit  \n",
    "    https://www.reddit.com/r/MachineLearning/\n",
    "3. Python Datascience Handbook  \n",
    "    https://jakevdp.github.io/PythonDataScienceHandbook/\n",
    "4. "
   ]
  },
  {
   "cell_type": "markdown",
   "metadata": {},
   "source": [
    "## Math/Stat\n",
    "1. Linear Algebra : Mathematics : MIT OpenCourseWare  \n",
    "    https://ocw.mit.edu/courses/18-06-linear-algebra-spring-2010/?utm_source=pocket_saves\n",
    "2. Tests  \n",
    "    https://sgfin.github.io/files/cheatsheets/linear_tests_cheat_sheet.pdf\n",
    "3. Statistical ReThinking  \n",
    "    https://statsthinking21.github.io/statsthinking21-core-site/\n",
    "4. "
   ]
  },
  {
   "cell_type": "markdown",
   "metadata": {},
   "source": [
    "## Miscellaneous\n",
    "1. 5 Python Projects for Data Science Portfolio  \n",
    "    https://www.kdnuggets.com/2022/12/5-python-projects-data-science-portfolio.html?utm_source=pocket_saves\n",
    "2. A Practical A/B Testing Brain Dump  \n",
    "    https://dpananos.github.io/posts/2023-05-14-ab-brain-dump/?utm_source=pocket_saves\n",
    "3. How to Structure an ML Project for Reproducibility and Maintainability  \n",
    "    https://towardsdatascience.com/how-to-structure-an-ml-project-for-reproducibility-and-maintainability-54d5e53b4c82\n",
    "4. Introduction to Machine Learning  \n",
    "    -- Video Lectures about Python Basics, Tree-based Methods, Model Evaluation, and Feature Selection\n",
    "    https://sebastianraschka.com/blog/2021/ml-course.html?utm_source=pocket_saves\n",
    "5. Advanced ML/Deep Learning Courese\n",
    "    https://course.fast.ai/\n"
   ]
  },
  {
   "cell_type": "markdown",
   "metadata": {},
   "source": []
  }
 ],
 "metadata": {
  "kernelspec": {
   "display_name": "Python 3",
   "language": "python",
   "name": "python3"
  },
  "language_info": {
   "name": "python",
   "version": "3.11.5"
  },
  "orig_nbformat": 4
 },
 "nbformat": 4,
 "nbformat_minor": 2
}
